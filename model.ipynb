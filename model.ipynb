{
 "cells": [
  {
   "cell_type": "code",
   "execution_count": null,
   "id": "d5ed83d3-4f78-4db8-9f7f-8d284e53ced0",
   "metadata": {},
   "outputs": [],
   "source": [
    "\n",
    "import pandas as pd\n",
    "import numpy as np\n",
    "import pickle\n",
    "from sklearn.feature_extraction.text import HashingVectorizer\n",
    "from sklearn.model_selection import train_test_split\n",
    "import tensorflow as tf\n",
    "from tensorflow import keras\n",
    "from keras import layers\n",
    "\n",
    "# Load dataset\n",
    "data = pd.read_csv('IMDB Dataset.csv').dropna()\n",
    "\n",
    "# Extract features and labels\n",
    "d1 = data['review']\n",
    "d2 = data['sentiment']\n",
    "\n",
    "# One-hot encode sentiment labels\n",
    "d22 = pd.get_dummies(d2).values  # [1,0] for neg, [0,1] for pos"
   ]
  },
  {
   "cell_type": "code",
   "execution_count": null,
   "id": "ba001e67-ffac-468d-8c8e-92edf839f565",
   "metadata": {},
   "outputs": [],
   "source": [
    "# HashingVectorizer (using a fixed number of features)\n",
    "vectorizer = HashingVectorizer(n_features=2**20)  # Set a fixed number of features (e.g., 2^20)\n",
    "d11 = vectorizer.fit_transform(d1)  # result is sparse matrix"
   ]
  },
  {
   "cell_type": "code",
   "execution_count": null,
   "id": "db568eb6-3c42-4ac6-9954-294796f89251",
   "metadata": {},
   "outputs": [],
   "source": [
    "# Save vectorizer for later use (this will not save the vocabulary, since it's stateless)\n",
    "with open(\"hashing_vectorizer.pkl\", \"wb\") as f:\n",
    "    pickle.dump(vectorizer, f)"
   ]
  },
  {
   "cell_type": "code",
   "execution_count": null,
   "id": "579c6b2b-9e12-4680-aff8-6a9e8f1cbb52",
   "metadata": {},
   "outputs": [],
   "source": [
    "# Train/val/test split (preserving sparse format)\n",
    "xtv, xtest, ytv, ytest = train_test_split(d11, d22, test_size=0.2, random_state=42, shuffle=True)\n",
    "xtrain, xval, ytrain, yval = train_test_split(xtv, ytv, test_size=0.2, random_state=42, shuffle=True)"
   ]
  },
  {
   "cell_type": "code",
   "execution_count": null,
   "id": "705114c3-95c0-47e0-965d-67af818dccd7",
   "metadata": {},
   "outputs": [],
   "source": [
    "# Sparse-compatible Keras model\n",
    "input_layer = tf.keras.Input(shape=(xtrain.shape[1],), sparse=True)\n",
    "x = layers.Dense(8, activation='relu')(input_layer)\n",
    "x = layers.BatchNormalization()(x)\n",
    "x = layers.Dropout(0.5)(x)\n",
    "output = layers.Dense(2, activation='softmax')(x)\n",
    "\n",
    "model = keras.Model(inputs=input_layer, outputs=output)\n",
    "\n",
    "# Compile the model\n",
    "model.compile(\n",
    "    optimizer=keras.optimizers.Adam(learning_rate=1e-5),\n",
    "    loss='categorical_crossentropy',\n",
    "    metrics=['accuracy']\n",
    ")"
   ]
  },
  {
   "cell_type": "code",
   "execution_count": null,
   "id": "862431ec-7f2a-4059-a717-494600ac3ea0",
   "metadata": {},
   "outputs": [],
   "source": [
    "# Show model summary\n",
    "model.summary()"
   ]
  },
  {
   "cell_type": "code",
   "execution_count": null,
   "id": "7ec98237-644b-487a-b0e7-5a5baee0ee03",
   "metadata": {},
   "outputs": [
    {
     "name": "stdout",
     "output_type": "stream",
     "text": [
      "Model: \"model_1\"\n",
      "_________________________________________________________________\n",
      " Layer (type)                Output Shape              Param #   \n",
      "=================================================================\n",
      " input_2 (InputLayer)        [(None, 1048576)]         0         \n",
      "                                                                 \n",
      " dense_13 (Dense)            (None, 8)                 8388616   \n",
      "                                                                 \n",
      " batch_normalization_7 (Batc  (None, 8)                32        \n",
      " hNormalization)                                                 \n",
      "                                                                 \n",
      " dropout_7 (Dropout)         (None, 8)                 0         \n",
      "                                                                 \n",
      " dense_14 (Dense)            (None, 2)                 18        \n",
      "                                                                 \n",
      "=================================================================\n",
      "Total params: 8,388,666\n",
      "Trainable params: 8,388,650\n",
      "Non-trainable params: 16\n",
      "_________________________________________________________________\n",
      "Epoch 1/30\n"
     ]
    },
    {
     "name": "stderr",
     "output_type": "stream",
     "text": [
      "C:\\Users\\hj777\\AppData\\Local\\Programs\\Python\\Python39\\lib\\site-packages\\tensorflow\\python\\framework\\indexed_slices.py:444: UserWarning: Converting sparse IndexedSlices(IndexedSlices(indices=Tensor(\"gradient_tape/model_1/dense_13/embedding_lookup_sparse/Reshape_1:0\", shape=(None,), dtype=int32), values=Tensor(\"gradient_tape/model_1/dense_13/embedding_lookup_sparse/Reshape:0\", shape=(None, 8), dtype=float32), dense_shape=Tensor(\"gradient_tape/model_1/dense_13/embedding_lookup_sparse/Cast:0\", shape=(2,), dtype=int32))) to a dense Tensor of unknown shape. This may consume a large amount of memory.\n",
      "  warnings.warn(\n"
     ]
    },
    {
     "name": "stdout",
     "output_type": "stream",
     "text": [
      "500/500 [==============================] - 19s 21ms/step - loss: 0.6626 - accuracy: 0.6915 - val_loss: 0.6678 - val_accuracy: 0.7874\n",
      "Epoch 2/30\n",
      "500/500 [==============================] - 10s 19ms/step - loss: 0.6032 - accuracy: 0.7971 - val_loss: 0.5780 - val_accuracy: 0.8207\n",
      "Epoch 3/30\n",
      "500/500 [==============================] - 10s 21ms/step - loss: 0.5590 - accuracy: 0.8212 - val_loss: 0.5350 - val_accuracy: 0.8364\n",
      "Epoch 4/30\n",
      "500/500 [==============================] - 10s 19ms/step - loss: 0.5249 - accuracy: 0.8354 - val_loss: 0.5020 - val_accuracy: 0.8435\n",
      "Epoch 5/30\n",
      "500/500 [==============================] - 10s 20ms/step - loss: 0.4937 - accuracy: 0.8462 - val_loss: 0.4746 - val_accuracy: 0.8512\n",
      "Epoch 6/30\n",
      "500/500 [==============================] - 10s 19ms/step - loss: 0.4686 - accuracy: 0.8554 - val_loss: 0.4509 - val_accuracy: 0.8577\n",
      "Epoch 7/30\n",
      "500/500 [==============================] - 10s 20ms/step - loss: 0.4485 - accuracy: 0.8621 - val_loss: 0.4305 - val_accuracy: 0.8625\n",
      "Epoch 8/30\n",
      "500/500 [==============================] - 10s 21ms/step - loss: 0.4296 - accuracy: 0.8700 - val_loss: 0.4131 - val_accuracy: 0.8665\n",
      "Epoch 9/30\n",
      "500/500 [==============================] - 10s 20ms/step - loss: 0.4124 - accuracy: 0.8749 - val_loss: 0.3976 - val_accuracy: 0.8705\n",
      "Epoch 10/30\n",
      "500/500 [==============================] - 9s 18ms/step - loss: 0.3988 - accuracy: 0.8802 - val_loss: 0.3839 - val_accuracy: 0.8734\n",
      "Epoch 11/30\n",
      "500/500 [==============================] - 9s 19ms/step - loss: 0.3841 - accuracy: 0.8849 - val_loss: 0.3718 - val_accuracy: 0.8755\n",
      "Epoch 12/30\n",
      "500/500 [==============================] - 10s 19ms/step - loss: 0.3721 - accuracy: 0.8888 - val_loss: 0.3608 - val_accuracy: 0.8792\n",
      "Epoch 13/30\n",
      "500/500 [==============================] - 9s 18ms/step - loss: 0.3607 - accuracy: 0.8921 - val_loss: 0.3510 - val_accuracy: 0.8804\n",
      "Epoch 14/30\n",
      "500/500 [==============================] - 9s 19ms/step - loss: 0.3519 - accuracy: 0.8947 - val_loss: 0.3420 - val_accuracy: 0.8831\n",
      "Epoch 15/30\n",
      "500/500 [==============================] - 11s 22ms/step - loss: 0.3416 - accuracy: 0.8972 - val_loss: 0.3339 - val_accuracy: 0.8841\n",
      "Epoch 16/30\n",
      "500/500 [==============================] - 11s 21ms/step - loss: 0.3341 - accuracy: 0.8997 - val_loss: 0.3266 - val_accuracy: 0.8870\n",
      "Epoch 17/30\n",
      "500/500 [==============================] - 11s 21ms/step - loss: 0.3222 - accuracy: 0.9039 - val_loss: 0.3198 - val_accuracy: 0.8878\n",
      "Epoch 18/30\n",
      "500/500 [==============================] - 10s 20ms/step - loss: 0.3159 - accuracy: 0.9058 - val_loss: 0.3135 - val_accuracy: 0.8888\n",
      "Epoch 19/30\n",
      "500/500 [==============================] - 10s 20ms/step - loss: 0.3068 - accuracy: 0.9079 - val_loss: 0.3078 - val_accuracy: 0.8900\n",
      "Epoch 20/30\n",
      "500/500 [==============================] - 11s 21ms/step - loss: 0.2997 - accuracy: 0.9115 - val_loss: 0.3024 - val_accuracy: 0.8914\n",
      "Epoch 21/30\n",
      "500/500 [==============================] - 10s 21ms/step - loss: 0.2941 - accuracy: 0.9117 - val_loss: 0.2974 - val_accuracy: 0.8930\n",
      "Epoch 22/30\n",
      "500/500 [==============================] - 10s 20ms/step - loss: 0.2884 - accuracy: 0.9151 - val_loss: 0.2928 - val_accuracy: 0.8936\n",
      "Epoch 23/30\n",
      "500/500 [==============================] - 10s 20ms/step - loss: 0.2820 - accuracy: 0.9164 - val_loss: 0.2886 - val_accuracy: 0.8953\n",
      "Epoch 24/30\n",
      "500/500 [==============================] - 10s 19ms/step - loss: 0.2753 - accuracy: 0.9183 - val_loss: 0.2847 - val_accuracy: 0.8961\n",
      "Epoch 25/30\n",
      "500/500 [==============================] - 10s 19ms/step - loss: 0.2711 - accuracy: 0.9199 - val_loss: 0.2811 - val_accuracy: 0.8970\n",
      "Epoch 26/30\n",
      "500/500 [==============================] - 9s 19ms/step - loss: 0.2648 - accuracy: 0.9218 - val_loss: 0.2777 - val_accuracy: 0.8974\n",
      "Epoch 27/30\n",
      "500/500 [==============================] - 10s 19ms/step - loss: 0.2592 - accuracy: 0.9239 - val_loss: 0.2745 - val_accuracy: 0.8986\n",
      "Epoch 28/30\n",
      "500/500 [==============================] - 10s 19ms/step - loss: 0.2533 - accuracy: 0.9259 - val_loss: 0.2714 - val_accuracy: 0.8986\n",
      "Epoch 29/30\n",
      "500/500 [==============================] - 9s 18ms/step - loss: 0.2499 - accuracy: 0.9259 - val_loss: 0.2687 - val_accuracy: 0.9000\n",
      "Epoch 30/30\n",
      "500/500 [==============================] - 10s 20ms/step - loss: 0.2445 - accuracy: 0.9288 - val_loss: 0.2660 - val_accuracy: 0.8997\n"
     ]
    }
   ],
   "source": [
    "# Train the model (sparse input directly)\n",
    "history = model.fit(\n",
    "    x=xtrain,\n",
    "    y=ytrain,\n",
    "    validation_data=(xval, yval),\n",
    "    epochs=30,\n",
    "    batch_size=64\n",
    ")"
   ]
  },
  {
   "cell_type": "code",
   "execution_count": 61,
   "id": "6ebd3761-c1d0-4617-a52a-63b24a48394a",
   "metadata": {},
   "outputs": [
    {
     "data": {
      "image/png": "[encoded data removed]",
      "text/plain": [
       "<Figure size 1000x600 with 1 Axes>"
      ]
     },
     "metadata": {},
     "output_type": "display_data"
    }
   ],
   "source": [
    "import matplotlib.pyplot as plt\n",
    "\n",
    "# Assuming you have already trained your model and have the 'history' object\n",
    "\n",
    "# Plot training and validation accuracy\n",
    "plt.figure(figsize=(10, 6))\n",
    "plt.plot(history.history['accuracy'], label='Training Accuracy')\n",
    "plt.plot(history.history['val_accuracy'], label='Validation Accuracy')\n",
    "plt.title('Model Accuracy Over Epochs')\n",
    "plt.xlabel('Epochs')\n",
    "plt.ylabel('Accuracy')\n",
    "plt.legend(loc='lower right')\n",
    "plt.grid(True)\n",
    "plt.show()\n"
   ]
  },
  {
   "cell_type": "code",
   "execution_count": 64,
   "id": "a1ccb468-25e4-447c-9af9-1f9a8f757770",
   "metadata": {},
   "outputs": [
    {
     "name": "stdout",
     "output_type": "stream",
     "text": [
      "313/313 [==============================] - 3s 9ms/step - loss: 0.2640 - accuracy: 0.9009\n",
      "Test Accuracy: 0.9009\n"
     ]
    }
   ],
   "source": [
    "# Evaluate the model\n",
    "test_loss, test_acc = model.evaluate(xtest, ytest)\n",
    "print(f\"Test Accuracy: {test_acc:.4f}\")\n",
    "\n"
   ]
  },
  {
   "cell_type": "code",
   "execution_count": 65,
   "id": "00467310-43b6-4a62-954b-3982725d9687",
   "metadata": {},
   "outputs": [],
   "source": [
    "# Save the model\n",
    "model.save(\"sentiment.h5\")"
   ]
  },
  {
   "cell_type": "code",
   "execution_count": 1,
   "id": "8bc49164-1fcb-46c8-b83a-9a6aa5e7692c",
   "metadata": {},
   "outputs": [
    {
     "name": "stdin",
     "output_type": "stream",
     "text": [
      "Enter your review:  i like it\n"
     ]
    },
    {
     "name": "stdout",
     "output_type": "stream",
     "text": [
      "1/1 [==============================] - 2s 2s/step\n",
      "Positive\n"
     ]
    }
   ],
   "source": [
    "# Load the necessary libraries\n",
    "from keras.models import load_model\n",
    "from sklearn.feature_extraction.text import HashingVectorizer\n",
    "import numpy as np\n",
    "\n",
    "# Load the saved model\n",
    "model = load_model(\"sentiment.h5\")\n",
    "\n",
    "# Initialize the HashingVectorizer with the same parameters used during training\n",
    "vectorizer = HashingVectorizer(n_features=2**20)  # Use the same n_features as in training\n",
    "\n",
    "# Inference: Taking user input for review\n",
    "ww = input(\"Enter your review: \")\n",
    "\n",
    "# Create the test set with user input\n",
    "test_set = [ww]\n",
    "\n",
    "# Transform the input text into the hashed feature space (same way it was done during training)\n",
    "new_test = vectorizer.transform(test_set)\n",
    "\n",
    "# Predict the sentiment of the review\n",
    "res = np.argmax(model.predict(new_test))\n",
    "\n",
    "# Output the result\n",
    "if res == 0:\n",
    "    print(\"Negative\")\n",
    "else:\n",
    "    print(\"Positive\")\n"
   ]
  },
  {
   "cell_type": "code",
   "execution_count": null,
   "id": "75a20095-39f7-4645-a47d-740578827278",
   "metadata": {},
   "outputs": [],
   "source": []
  }
 ],
 "metadata": {
  "kernelspec": {
   "display_name": "Python 3 (ipykernel)",
   "language": "python",
   "name": "python3"
  },
  "language_info": {
   "codemirror_mode": {
    "name": "ipython",
    "version": 3
   },
   "file_extension": ".py",
   "mimetype": "text/x-python",
   "name": "python",
   "nbconvert_exporter": "python",
   "pygments_lexer": "ipython3",
   "version": "3.9.5"
  }
 },
 "nbformat": 4,
 "nbformat_minor": 5
}
